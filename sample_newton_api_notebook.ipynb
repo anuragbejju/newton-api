{
 "cells": [
  {
   "cell_type": "markdown",
   "metadata": {},
   "source": [
    "# NEWTON - API"
   ]
  },
  {
   "cell_type": "markdown",
   "metadata": {},
   "source": [
    "#### Import packages"
   ]
  },
  {
   "cell_type": "code",
   "execution_count": 7,
   "metadata": {},
   "outputs": [
    {
     "name": "stdout",
     "output_type": "stream",
     "text": [
      "Available tickers\n"
     ]
    },
    {
     "data": {
      "text/plain": [
       "{'BTC_USDC': {'tick': 0.01},\n",
       " 'ETH_USDC': {'tick': 0.001},\n",
       " 'LTC_USDC': {'tick': 0.001},\n",
       " 'XRP_USDC': {'tick': 1e-06},\n",
       " 'XLM_USDC': {'tick': 1e-06},\n",
       " 'XMR_USDC': {'tick': 0.001},\n",
       " 'USDT_USDC': {'tick': 0.0001},\n",
       " 'USDC_QCAD': {'tick': 0.0001},\n",
       " 'BTC_QCAD': {'tick': 0.01},\n",
       " 'ETH_QCAD': {'tick': 0.001}}"
      ]
     },
     "execution_count": 7,
     "metadata": {},
     "output_type": "execute_result"
    }
   ],
   "source": [
    "import hmac\n",
    "from datetime import datetime\n",
    "from base64 import b64encode\n",
    "from math import floor\n",
    "from hashlib import sha256\n",
    "\n",
    "import requests\n",
    "import pandas as pd\n",
    "import json\n",
    "\n",
    "ENCODING = \"utf-8\"\n",
    "\n",
    "current_time = str(floor(datetime.now().timestamp()))\n",
    "\n",
    "CLIENT_ID = \"xxx\"\n",
    "CLIENT_SECRET = \"xxx\"\n",
    "\n",
    "r = requests.get(url = \"https://api.newton.co/v1/order/tick-sizes\") \n",
    "\n",
    "print (\"Available tickers\")\n",
    "r.json()"
   ]
  },
  {
   "cell_type": "markdown",
   "metadata": {},
   "source": [
    "### Placing a new order"
   ]
  },
  {
   "cell_type": "code",
   "execution_count": 8,
   "metadata": {},
   "outputs": [
    {
     "data": {
      "text/plain": [
       "{'detail': 'Invalid authorization.'}"
      ]
     },
     "execution_count": 8,
     "metadata": {},
     "output_type": "execute_result"
    }
   ],
   "source": [
    "\n",
    "\n",
    "URL = \"https://api.newton.co/v1/order/new\"\n",
    "\n",
    "body = {\n",
    "\t\"order_type\": \"LIMIT\",\n",
    "\t\"time_in_force\": \"IOC\",\n",
    "\t\"side\": \"BUY\",\n",
    "\t\"symbol\": \"BTC_USDC\",\n",
    "\t\"price\": 25475,\n",
    "\t\"quantity\": 0.000102\n",
    "}\n",
    "\n",
    "ENCODING = \"utf-8\"\n",
    "\n",
    "current_time = str(floor(datetime.now().timestamp()))\n",
    "\n",
    "hashed_body = sha256(json.dumps(body).encode(ENCODING)).hexdigest()\n",
    "\n",
    "signature_parameters = [\n",
    "            \"POST\",\n",
    "            \"application/json\", \n",
    "            \"/v1/order/new\",\n",
    "            hashed_body,\n",
    "            current_time,\n",
    "        ]\n",
    "signature_data = \":\".join(signature_parameters).encode(ENCODING)\n",
    "\n",
    "computed_signature = hmac.new(\n",
    "    CLIENT_SECRET.encode(ENCODING),\n",
    "    msg=signature_data,\n",
    "    digestmod=sha256\n",
    ").digest()\n",
    "\n",
    "NewtonAPIAuth = CLIENT_ID + \":\" + b64encode(computed_signature).decode()\n",
    "NewtonDate = current_time\n",
    "\n",
    "\n",
    "\n",
    "headers =  {\n",
    "    \"NewtonAPIAuth\": NewtonAPIAuth,\n",
    "    \"NewtonDate\": NewtonDate\n",
    "  }\n",
    "\n",
    "r = requests.post(url = URL, headers = headers, data=json.dumps(body)) \n",
    "  \n",
    "data = r.json() \n",
    "\n",
    "data"
   ]
  },
  {
   "cell_type": "code",
   "execution_count": null,
   "metadata": {},
   "outputs": [],
   "source": []
  }
 ],
 "metadata": {
  "kernelspec": {
   "display_name": "Python 3",
   "language": "python",
   "name": "python3"
  },
  "language_info": {
   "codemirror_mode": {
    "name": "ipython",
    "version": 3
   },
   "file_extension": ".py",
   "mimetype": "text/x-python",
   "name": "python",
   "nbconvert_exporter": "python",
   "pygments_lexer": "ipython3",
   "version": "3.8.5"
  }
 },
 "nbformat": 4,
 "nbformat_minor": 4
}
